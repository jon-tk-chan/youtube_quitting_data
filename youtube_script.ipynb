{
 "cells": [
  {
   "cell_type": "code",
   "execution_count": 2,
   "id": "a122011e",
   "metadata": {},
   "outputs": [],
   "source": [
    "# REDO SCRAPE TO MAKE youtube_stats.csv\n",
    "\n"
   ]
  },
  {
   "cell_type": "code",
   "execution_count": 3,
   "id": "df848a53",
   "metadata": {},
   "outputs": [],
   "source": [
    "from apiclient.discovery import build\n",
    "from apiclient.errors import HttpError\n",
    "from oauth2client.tools import argparser\n",
    "import pandas as pd\n",
    "import matplotlib.pyplot as plt\n",
    "# import ytcreds\n",
    "import json\n",
    "import credentials\n",
    "\n",
    "\n",
    "DEVELOPER_KEY = credentials.API_KEY\n",
    "YOUTUBE_API_SERVICE_NAME = \"youtube\"\n",
    "YOUTUBE_API_VERSION = \"v3\"\n",
    "youtube = build(YOUTUBE_API_SERVICE_NAME, YOUTUBE_API_VERSION,developerKey=DEVELOPER_KEY)"
   ]
  },
  {
   "cell_type": "code",
   "execution_count": 4,
   "id": "de154145",
   "metadata": {},
   "outputs": [
    {
     "name": "stdout",
     "output_type": "stream",
     "text": [
      "0\n",
      "----\n",
      "{'kind': 'youtube#searchListResponse', 'etag': '_8kUiQ8lFBmcxxrymuvgGkxpBrU', 'nextPageToken': 'CDIQAA', 'regionCode': 'CA', 'pageInfo': {'totalResults': 1000000, 'resultsPerPage': 50}, 'items': [{'kind': 'youtube#searchResult', 'etag': 'iGqkNBPSEB3bWicbSrS8idBKByM', 'id': {'kind': 'youtube#video', 'videoId': 'SZEo1KFjTn4'}, 'snippet': {'publishedAt': '2019-05-24T14:54:14Z', 'channelId': 'UCI_2HqC2a22Q4Jx41o9g72w', 'title': 'Should You QUIT Your Job? - The Most Life Changing Speech Ever (ft. Garyvee, Joe Rogan)', 'description': 'Should you quit your job and start a business? Joe Rogan & Garyvee talks about how to know when to quit your job and how to ...', 'thumbnails': {'default': {'url': 'https://i.ytimg.com/vi/SZEo1KFjTn4/default.jpg', 'width': 120, 'height': 90}, 'medium': {'url': 'https://i.ytimg.com/vi/SZEo1KFjTn4/mqdefault.jpg', 'width': 320, 'height': 180}, 'high': {'url': 'https://i.ytimg.com/vi/SZEo1KFjTn4/hqdefault.jpg', 'width': 480, 'height': 360}}, 'channelTitle': 'The Outcome', 'liveBroadcastContent': 'none', 'publishTime': '2019-05-24T14:54:14Z'}}, {'kind': 'youtube#searchResult', 'etag': 'uyPLYoDQt1bpxfOTw87PVw3bicU', 'id': {'kind': 'youtube#video', 'videoId': 'PgfzN1xfgLc'}, 'snippet': {'publishedAt': '2021-09-07T22:30:00Z', 'channelId': 'UCCFodX6dcHPnkcNkyOkjRLA', 'title': 'Why I Quit my Job With No Backup Plan | The Perspective That Changed My Life', 'description': 'Apply for Life & Mindset Coaching: https://www.chriscascella.com/coaching-application/ Sign up for my newsletter Free Thoughts ...', 'thumbnails': {'default': {'url': 'https://i.ytimg.com/vi/PgfzN1xfgLc/default.jpg', 'width': 120, 'height': 90}, 'medium': {'url': 'https://i.ytimg.com/vi/PgfzN1xfgLc/mqdefault.jpg', 'width': 320, 'height': 180}, 'high': {'url': 'https://i.ytimg.com/vi/PgfzN1xfgLc/hqdefault.jpg', 'width': 480, 'height': 360}}, 'channelTitle': 'Chris Cascella', 'liveBroadcastContent': 'none', 'publishTime': '2021-09-07T22:30:00Z'}}, {'kind': 'youtube#searchResult', 'etag': 'umTaOugEri6v2HrfxMedzYsyJhE', 'id': {'kind': 'youtube#video', 'videoId': '84FPm7oAQG8'}, 'snippet': {'publishedAt': '2022-07-07T14:00:06Z', 'channelId': 'UCPa0bvFsR1mbBpk5mIPFGLA', 'title': 'Quitting my job was a big mistake', 'description': \"Go to https://bit.ly/3QcW39t and use code VINCENTCHAN to get 15% off ClickUp's massive Unlimited Plan for a year!\", 'thumbnails': {'default': {'url': 'https://i.ytimg.com/vi/84FPm7oAQG8/default.jpg', 'width': 120, 'height': 90}, 'medium': {'url': 'https://i.ytimg.com/vi/84FPm7oAQG8/mqdefault.jpg', 'width': 320, 'height': 180}, 'high': {'url': 'https://i.ytimg.com/vi/84FPm7oAQG8/hqdefault.jpg', 'width': 480, 'height': 360}}, 'channelTitle': 'Vincent Chan', 'liveBroadcastContent': 'none', 'publishTime': '2022-07-07T14:00:06Z'}}, {'kind': 'youtube#searchResult', 'etag': '_HqAq2DCvEi-xN88KHmCFaRDgdc', 'id': {'kind': 'youtube#video', 'videoId': 'ZvCGppdE2E0'}, 'snippet': {'publishedAt': '2021-07-12T14:00:23Z', 'channelId': 'UCPa0bvFsR1mbBpk5mIPFGLA', 'title': 'I QUIT My $120,000 Job After Learning 3 Things', 'description': 'I decided to quit my job after I realized these 3 lessons. Although I \"heard\" of these 3 things before, they never clicked inside my ...', 'thumbnails': {'default': {'url': 'https://i.ytimg.com/vi/ZvCGppdE2E0/default.jpg', 'width': 120, 'height': 90}, 'medium': {'url': 'https://i.ytimg.com/vi/ZvCGppdE2E0/mqdefault.jpg', 'width': 320, 'height': 180}, 'high': {'url': 'https://i.ytimg.com/vi/ZvCGppdE2E0/hqdefault.jpg', 'width': 480, 'height': 360}}, 'channelTitle': 'Vincent Chan', 'liveBroadcastContent': 'none', 'publishTime': '2021-07-12T14:00:23Z'}}, {'kind': 'youtube#searchResult', 'etag': '77nIIxvrpRYU2yjSD3y-5opg48g', 'id': {'kind': 'youtube#video', 'videoId': 'XXyk_PT9LiM'}, 'snippet': {'publishedAt': '2020-12-28T12:58:59Z', 'channelId': 'UCoSw1rKMkCbwzKpkC0OjRKA', 'title': 'QUIT MY $250,000 JOB after learning THIS about money', 'description': 'My free guide to making passive income: https://erikakullberg.com/passive-income/ Follow me on Instagram: @erikankullberg (If ...', 'thumbnails': {'default': {'url': 'https://i.ytimg.com/vi/XXyk_PT9LiM/default.jpg', 'width': 120, 'height': 90}, 'medium': {'url': 'https://i.ytimg.com/vi/XXyk_PT9LiM/mqdefault.jpg', 'width': 320, 'height': 180}, 'high': {'url': 'https://i.ytimg.com/vi/XXyk_PT9LiM/hqdefault.jpg', 'width': 480, 'height': 360}}, 'channelTitle': 'Erika Kullberg', 'liveBroadcastContent': 'none', 'publishTime': '2020-12-28T12:58:59Z'}}, {'kind': 'youtube#searchResult', 'etag': 'qtK3PuJMorctkh9g4_sz4DrcFp0', 'id': {'kind': 'youtube#video', 'videoId': 'zBQa48lLuVg'}, 'snippet': {'publishedAt': '2019-07-11T15:33:17Z', 'channelId': 'UCI_2HqC2a22Q4Jx41o9g72w', 'title': 'SHOULD YOU QUIT YOUR JOB? | A Very Eye Opening Speech ft  Jordan Peterson', 'description': 'Should You Quit Your Job? Jordan Peterson talks about how to know when to quit your job and how to actually do what you love.', 'thumbnails': {'default': {'url': 'https://i.ytimg.com/vi/zBQa48lLuVg/default.jpg', 'width': 120, 'height': 90}, 'medium': {'url': 'https://i.ytimg.com/vi/zBQa48lLuVg/mqdefault.jpg', 'width': 320, 'height': 180}, 'high': {'url': 'https://i.ytimg.com/vi/zBQa48lLuVg/hqdefault.jpg', 'width': 480, 'height': 360}}, 'channelTitle': 'The Outcome', 'liveBroadcastContent': 'none', 'publishTime': '2019-07-11T15:33:17Z'}}, {'kind': 'youtube#searchResult', 'etag': 'StgkNoPSc9dsD49J3NU315V7sBM', 'id': {'kind': 'youtube#video', 'videoId': 'S_D4yJavp8M'}, 'snippet': {'publishedAt': '2021-12-04T01:00:05Z', 'channelId': 'UCg-_uOJ2J5HfPXGVg25WwVw', 'title': 'I QUIT my &quot;Great&quot; job after learning 3 things about MONEY', 'description': '3 important realizations about money finally helped me to quit my $120000 Big Law job. ☕️ if you enjoyed the video, show some ...', 'thumbnails': {'default': {'url': 'https://i.ytimg.com/vi/S_D4yJavp8M/default.jpg', 'width': 120, 'height': 90}, 'medium': {'url': 'https://i.ytimg.com/vi/S_D4yJavp8M/mqdefault.jpg', 'width': 320, 'height': 180}, 'high': {'url': 'https://i.ytimg.com/vi/S_D4yJavp8M/hqdefault.jpg', 'width': 480, 'height': 360}}, 'channelTitle': 'Jean Voronkova', 'liveBroadcastContent': 'none', 'publishTime': '2021-12-04T01:00:05Z'}}, {'kind': 'youtube#searchResult', 'etag': 'MYZUfisktBj9t_z8D3tM7Cey8v0', 'id': {'kind': 'youtube#video', 'videoId': 'l4bZ3wuOQPY'}, 'snippet': {'publishedAt': '2020-11-20T13:15:02Z', 'channelId': 'UCTxE_H740863mMWenau1Q7A', 'title': 'Jordan Peterson: Should You Quit Your Current Job For The Better?', 'description': \"Jordan Peterson: Should You Quit Your Current Job For The Better? Have you ever felt like the job you're at isn't for you? In this ...\", 'thumbnails': {'default': {'url': 'https://i.ytimg.com/vi/l4bZ3wuOQPY/default.jpg', 'width': 120, 'height': 90}, 'medium': {'url': 'https://i.ytimg.com/vi/l4bZ3wuOQPY/mqdefault.jpg', 'width': 320, 'height': 180}, 'high': {'url': 'https://i.ytimg.com/vi/l4bZ3wuOQPY/hqdefault.jpg', 'width': 480, 'height': 360}}, 'channelTitle': 'Business Central', 'liveBroadcastContent': 'none', 'publishTime': '2020-11-20T13:15:02Z'}}, {'kind': 'youtube#searchResult', 'etag': 'exyD3g26Wi65iO-KqHCcxXpDnIs', 'id': {'kind': 'youtube#video', 'videoId': '_giwrephbHI'}, 'snippet': {'publishedAt': '2022-05-04T04:45:32Z', 'channelId': 'UCSLB1c7Pt7IrBz4hRuzqFVA', 'title': 'Why I quit my job | vlog', 'description': \"The Great Resignation strikes again.... After a year of going back and forth, I thought I'd share what ultimately made me decide to ...\", 'thumbnails': {'default': {'url': 'https://i.ytimg.com/vi/_giwrephbHI/default.jpg', 'width': 120, 'height': 90}, 'medium': {'url': 'https://i.ytimg.com/vi/_giwrephbHI/mqdefault.jpg', 'width': 320, 'height': 180}, 'high': {'url': 'https://i.ytimg.com/vi/_giwrephbHI/hqdefault.jpg', 'width': 480, 'height': 360}}, 'channelTitle': 'Esther 예은', 'liveBroadcastContent': 'none', 'publishTime': '2022-05-04T04:45:32Z'}}, {'kind': 'youtube#searchResult', 'etag': 'ZEGtJA2gl2ehvXAkXIsc40wRW7g', 'id': {'kind': 'youtube#video', 'videoId': 'tq4No1cOwZM'}, 'snippet': {'publishedAt': '2022-10-13T15:00:41Z', 'channelId': 'UCPa0bvFsR1mbBpk5mIPFGLA', 'title': 'Quiet Quitting My Job Changed My Life', 'description': 'Want to cashflow $100000 in 12 months?* Get the playbooks and strategies HERE: https://bit.ly/cashflowme *Do you wish ...', 'thumbnails': {'default': {'url': 'https://i.ytimg.com/vi/tq4No1cOwZM/default.jpg', 'width': 120, 'height': 90}, 'medium': {'url': 'https://i.ytimg.com/vi/tq4No1cOwZM/mqdefault.jpg', 'width': 320, 'height': 180}, 'high': {'url': 'https://i.ytimg.com/vi/tq4No1cOwZM/hqdefault.jpg', 'width': 480, 'height': 360}}, 'channelTitle': 'Vincent Chan', 'liveBroadcastContent': 'none', 'publishTime': '2022-10-13T15:00:41Z'}}, {'kind': 'youtube#searchResult', 'etag': '6rpv6-FJWCeH1sY1jQpvExDdkDU', 'id': {'kind': 'youtube#video', 'videoId': 'Hr8UjzeGm-M'}, 'snippet': {'publishedAt': '2021-06-30T17:00:11Z', 'channelId': 'UCe9i90wu-MA0cKraf6X0v6Q', 'title': 'i quit my job (and filmed everything)', 'description': \"i quit my job to do youtube full time. I can't believe i'm making this video. For years this has been my dream, and thanks to every ...\", 'thumbnails': {'default': {'url': 'https://i.ytimg.com/vi/Hr8UjzeGm-M/default.jpg', 'width': 120, 'height': 90}, 'medium': {'url': 'https://i.ytimg.com/vi/Hr8UjzeGm-M/mqdefault.jpg', 'width': 320, 'height': 180}, 'high': {'url': 'https://i.ytimg.com/vi/Hr8UjzeGm-M/hqdefault.jpg', 'width': 480, 'height': 360}}, 'channelTitle': 'Lynette Adkins', 'liveBroadcastContent': 'none', 'publishTime': '2021-06-30T17:00:11Z'}}, {'kind': 'youtube#searchResult', 'etag': '8czjiAbvTSex4vbqljib_w5SW5c', 'id': {'kind': 'youtube#video', 'videoId': 'OM7FuUs56lk'}, 'snippet': {'publishedAt': '2021-08-22T15:00:15Z', 'channelId': 'UCPa0bvFsR1mbBpk5mIPFGLA', 'title': 'Before You Quit Your Job, Watch This.', 'description': 'The Great Resignation is here and everyone is quitting their jobs. But before you quit your job, watch this. Quitting might be the ...', 'thumbnails': {'default': {'url': 'https://i.ytimg.com/vi/OM7FuUs56lk/default.jpg', 'width': 120, 'height': 90}, 'medium': {'url': 'https://i.ytimg.com/vi/OM7FuUs56lk/mqdefault.jpg', 'width': 320, 'height': 180}, 'high': {'url': 'https://i.ytimg.com/vi/OM7FuUs56lk/hqdefault.jpg', 'width': 480, 'height': 360}}, 'channelTitle': 'Vincent Chan', 'liveBroadcastContent': 'none', 'publishTime': '2021-08-22T15:00:15Z'}}, {'kind': 'youtube#searchResult', 'etag': 'WjC3kuw4vnkZM5mA99RgWwnnQ58', 'id': {'kind': 'youtube#video', 'videoId': 'kVnyIFFggH8'}, 'snippet': {'publishedAt': '2021-09-26T14:45:05Z', 'channelId': 'UCPa0bvFsR1mbBpk5mIPFGLA', 'title': 'My 3 biggest regrets after I quit my job', 'description': 'It seems like everyone is quitting their jobs but no one is talking about the painful moments and regrets after quitting. These are my ...', 'thumbnails': {'default': {'url': 'https://i.ytimg.com/vi/kVnyIFFggH8/default.jpg', 'width': 120, 'height': 90}, 'medium': {'url': 'https://i.ytimg.com/vi/kVnyIFFggH8/mqdefault.jpg', 'width': 320, 'height': 180}, 'high': {'url': 'https://i.ytimg.com/vi/kVnyIFFggH8/hqdefault.jpg', 'width': 480, 'height': 360}}, 'channelTitle': 'Vincent Chan', 'liveBroadcastContent': 'none', 'publishTime': '2021-09-26T14:45:05Z'}}, {'kind': 'youtube#searchResult', 'etag': 'MKlwQPlH9yBpkEXmCJIZtCDnzew', 'id': {'kind': 'youtube#video', 'videoId': 'Cv1w7r1Egik'}, 'snippet': {'publishedAt': '2022-08-27T10:49:08Z', 'channelId': 'UC6P8Yd4wjw1NcBRM-XAiyZw', 'title': 'I Quit My Job With No Plans - Watch This Before You Quit Your Job', 'description': 'I shared what led me to quitting my job and how it turned out. But most importantly 5 things to consider/do before taking the leap.', 'thumbnails': {'default': {'url': 'https://i.ytimg.com/vi/Cv1w7r1Egik/default.jpg', 'width': 120, 'height': 90}, 'medium': {'url': 'https://i.ytimg.com/vi/Cv1w7r1Egik/mqdefault.jpg', 'width': 320, 'height': 180}, 'high': {'url': 'https://i.ytimg.com/vi/Cv1w7r1Egik/hqdefault.jpg', 'width': 480, 'height': 360}}, 'channelTitle': 'Koko Ademosu', 'liveBroadcastContent': 'none', 'publishTime': '2022-08-27T10:49:08Z'}}, {'kind': 'youtube#searchResult', 'etag': '9POHDNzZMyCVDhnmkJDzil5xbr4', 'id': {'kind': 'youtube#video', 'videoId': '-lXuicxlnN4'}, 'snippet': {'publishedAt': '2022-07-10T14:00:00Z', 'channelId': 'UCP0f9FXZ4g-MxAqSUreHpCw', 'title': 'I QUIT my Management Consulting Job. Why I left and what&#39;s next for me? (Huge Life Update)', 'description': \"Who saw this coming? Insta @taykbell→ https://www.instagram.com/taykbell/ Subscribe for $0 and don't forget to DEMOLISH ...\", 'thumbnails': {'default': {'url': 'https://i.ytimg.com/vi/-lXuicxlnN4/default.jpg', 'width': 120, 'height': 90}, 'medium': {'url': 'https://i.ytimg.com/vi/-lXuicxlnN4/mqdefault.jpg', 'width': 320, 'height': 180}, 'high': {'url': 'https://i.ytimg.com/vi/-lXuicxlnN4/hqdefault.jpg', 'width': 480, 'height': 360}}, 'channelTitle': 'Taylor Bell', 'liveBroadcastContent': 'none', 'publishTime': '2022-07-10T14:00:00Z'}}, {'kind': 'youtube#searchResult', 'etag': 'zEHqzhd3eXrFu6gv_xZme8e9ae8', 'id': {'kind': 'youtube#video', 'videoId': 'LMk7gK893E0'}, 'snippet': {'publishedAt': '2022-06-21T22:00:16Z', 'channelId': 'UCV-s8itWCK3yeCppmSYxtVA', 'title': 'I Quit My Job to Find Peace', 'description': \"can't even believe i'm writing this but there is another side to burnout, and i think i see the tip of the iceberg of it. thanks for being ...\", 'thumbnails': {'default': {'url': 'https://i.ytimg.com/vi/LMk7gK893E0/default.jpg', 'width': 120, 'height': 90}, 'medium': {'url': 'https://i.ytimg.com/vi/LMk7gK893E0/mqdefault.jpg', 'width': 320, 'height': 180}, 'high': {'url': 'https://i.ytimg.com/vi/LMk7gK893E0/hqdefault.jpg', 'width': 480, 'height': 360}}, 'channelTitle': 'MeganBatoon', 'liveBroadcastContent': 'none', 'publishTime': '2022-06-21T22:00:16Z'}}, {'kind': 'youtube#searchResult', 'etag': 'I_twOA83QtVwjme0ZBo5Sa-fv0Y', 'id': {'kind': 'youtube#video', 'videoId': 'Inaw4g3mBw4'}, 'snippet': {'publishedAt': '2022-02-16T15:30:02Z', 'channelId': 'UCSLeoz5odIGS2GdlbHbCAUg', 'title': 'One Year After I Quit my Job – Why, How, &amp; What Now?', 'description': 'What happens when you quit your job of ten years to invest in your own creative pursuits? In this video, I share my experience of ...', 'thumbnails': {'default': {'url': 'https://i.ytimg.com/vi/Inaw4g3mBw4/default.jpg', 'width': 120, 'height': 90}, 'medium': {'url': 'https://i.ytimg.com/vi/Inaw4g3mBw4/mqdefault.jpg', 'width': 320, 'height': 180}, 'high': {'url': 'https://i.ytimg.com/vi/Inaw4g3mBw4/hqdefault.jpg', 'width': 480, 'height': 360}}, 'channelTitle': 'Matthew Encina', 'liveBroadcastContent': 'none', 'publishTime': '2022-02-16T15:30:02Z'}}, {'kind': 'youtube#searchResult', 'etag': 'W0S1e5AJIQ0nj_a2DFEIsoU2FDI', 'id': {'kind': 'youtube#video', 'videoId': 'B4S2pQ4EzPA'}, 'snippet': {'publishedAt': '2020-08-25T18:22:36Z', 'channelId': 'UCk52qSNJjjo9ftWT4LKrsZA', 'title': 'Signs You Should Quit Your Job Immediately - 5 Signs You Need to Leave Your Company Now!', 'description': \"Signs you should quit your job immediately - here's 5 signs you need to leave your company now. If you're wondering if you ...\", 'thumbnails': {'default': {'url': 'https://i.ytimg.com/vi/B4S2pQ4EzPA/default.jpg', 'width': 120, 'height': 90}, 'medium': {'url': 'https://i.ytimg.com/vi/B4S2pQ4EzPA/mqdefault.jpg', 'width': 320, 'height': 180}, 'high': {'url': 'https://i.ytimg.com/vi/B4S2pQ4EzPA/hqdefault.jpg', 'width': 480, 'height': 360}}, 'channelTitle': 'A Life After Layoff', 'liveBroadcastContent': 'none', 'publishTime': '2020-08-25T18:22:36Z'}}, {'kind': 'youtube#searchResult', 'etag': 'ZU4BLELAA55mCPDZCG_MzPXWca0', 'id': {'kind': 'youtube#video', 'videoId': 'dSYJe1IS02I'}, 'snippet': {'publishedAt': '2020-11-29T17:01:30Z', 'channelId': 'UCdOPzgbosSnbfwd9-iXP2NA', 'title': 'It&#39;s been 2 years since I quit my corporate job. Here&#39;s what I learned.', 'description': \"It's been 2 years since I quit my corporate job Here's what I learned. If you've ever wondered how to quit your job, take it from me.\", 'thumbnails': {'default': {'url': 'https://i.ytimg.com/vi/dSYJe1IS02I/default.jpg', 'width': 120, 'height': 90}, 'medium': {'url': 'https://i.ytimg.com/vi/dSYJe1IS02I/mqdefault.jpg', 'width': 320, 'height': 180}, 'high': {'url': 'https://i.ytimg.com/vi/dSYJe1IS02I/hqdefault.jpg', 'width': 480, 'height': 360}}, 'channelTitle': 'Vanessa Lau', 'liveBroadcastContent': 'none', 'publishTime': '2020-11-29T17:01:30Z'}}, {'kind': 'youtube#searchResult', 'etag': 'Ah67RGSuJMK3ORklszlnCNsxBjY', 'id': {'kind': 'youtube#video', 'videoId': 'y7yr-za_Meo'}, 'snippet': {'publishedAt': '2018-05-23T00:00:02Z', 'channelId': 'UCs8o1mdWAfefJkdBg632_tg', 'title': 'Quit Your Day Job and Live Out Your Dreams by Dr. Ken Atchity', 'description': 'BUY THE BOOK - HOW TO QUIT YOUR DAY JOB AND LIVE OUT YOUR DREAMS: Do What You Love for Money ...', 'thumbnails': {'default': {'url': 'https://i.ytimg.com/vi/y7yr-za_Meo/default.jpg', 'width': 120, 'height': 90}, 'medium': {'url': 'https://i.ytimg.com/vi/y7yr-za_Meo/mqdefault.jpg', 'width': 320, 'height': 180}, 'high': {'url': 'https://i.ytimg.com/vi/y7yr-za_Meo/hqdefault.jpg', 'width': 480, 'height': 360}}, 'channelTitle': 'Film Courage', 'liveBroadcastContent': 'none', 'publishTime': '2018-05-23T00:00:02Z'}}, {'kind': 'youtube#searchResult', 'etag': 'F0OU5JMF5gIIJGMlqFNOE8N6wqQ', 'id': {'kind': 'youtube#video', 'videoId': '-Bx1xODdt4E'}, 'snippet': {'publishedAt': '2022-02-19T15:00:00Z', 'channelId': 'UCMhvTx5lbj5LlsHvOaVgmNA', 'title': 'The FINAL straw that made me QUIT my 9-5 job (&amp; red flags) ❌', 'description': 'There were a lot of reasons WHY I quit my 9-5 corporate engineering job, but what was the final straw that made me quit my 9-5 ...', 'thumbnails': {'default': {'url': 'https://i.ytimg.com/vi/-Bx1xODdt4E/default.jpg', 'width': 120, 'height': 90}, 'medium': {'url': 'https://i.ytimg.com/vi/-Bx1xODdt4E/mqdefault.jpg', 'width': 320, 'height': 180}, 'high': {'url': 'https://i.ytimg.com/vi/-Bx1xODdt4E/hqdefault.jpg', 'width': 480, 'height': 360}}, 'channelTitle': 'Paige West', 'liveBroadcastContent': 'none', 'publishTime': '2022-02-19T15:00:00Z'}}, {'kind': 'youtube#searchResult', 'etag': 'ANoi8T-Izukx45GQsVE8k2g9t7g', 'id': {'kind': 'youtube#video', 'videoId': 'qfJlP8VhYDg'}, 'snippet': {'publishedAt': '2022-08-29T20:40:36Z', 'channelId': 'UCYVHKVS0lrujpO06LmuflKQ', 'title': 'I QUIT MY CORPORATE JOB FOR MY MENTAL HEALTH', 'description': 'In this video I share more about what is going on in my life, why I quit my corporate job and what I am going to do next.', 'thumbnails': {'default': {'url': 'https://i.ytimg.com/vi/qfJlP8VhYDg/default.jpg', 'width': 120, 'height': 90}, 'medium': {'url': 'https://i.ytimg.com/vi/qfJlP8VhYDg/mqdefault.jpg', 'width': 320, 'height': 180}, 'high': {'url': 'https://i.ytimg.com/vi/qfJlP8VhYDg/hqdefault.jpg', 'width': 480, 'height': 360}}, 'channelTitle': 'TotallyMeagan ', 'liveBroadcastContent': 'none', 'publishTime': '2022-08-29T20:40:36Z'}}, {'kind': 'youtube#searchResult', 'etag': 'uR6kcoa9JctzEDwDaecU55P0A_I', 'id': {'kind': 'youtube#video', 'videoId': 'M8md7_gyBy4'}, 'snippet': {'publishedAt': '2022-01-17T10:58:08Z', 'channelId': 'UC0GmdVKZhMM3Rmielp4oVAA', 'title': 'I QUIT my $170,000 Data Analyst Job After Learning 3 Lessons', 'description': 'I decided to quit my data analyst job after I learned 3 lessons. The goal of this video is to share my experiences as a Data Analyst ...', 'thumbnails': {'default': {'url': 'https://i.ytimg.com/vi/M8md7_gyBy4/default.jpg', 'width': 120, 'height': 90}, 'medium': {'url': 'https://i.ytimg.com/vi/M8md7_gyBy4/mqdefault.jpg', 'width': 320, 'height': 180}, 'high': {'url': 'https://i.ytimg.com/vi/M8md7_gyBy4/hqdefault.jpg', 'width': 480, 'height': 360}}, 'channelTitle': 'Stefanovic', 'liveBroadcastContent': 'none', 'publishTime': '2022-01-17T10:58:08Z'}}, {'kind': 'youtube#searchResult', 'etag': 'oZn5RedKz8LeeaKLs6AVJNH5mYI', 'id': {'kind': 'youtube#video', 'videoId': 'wvtcFOsc3-U'}, 'snippet': {'publishedAt': '2022-05-11T15:38:07Z', 'channelId': 'UCIUpYav_G1i6FKYypqf-ucQ', 'title': 'Quitting my job! TikTok Compilation', 'description': 'THANKS FOR WATCHING! LEGIT FUNNY THE GREATEST TIKTOK COMPILATIONS.', 'thumbnails': {'default': {'url': 'https://i.ytimg.com/vi/wvtcFOsc3-U/default.jpg', 'width': 120, 'height': 90}, 'medium': {'url': 'https://i.ytimg.com/vi/wvtcFOsc3-U/mqdefault.jpg', 'width': 320, 'height': 180}, 'high': {'url': 'https://i.ytimg.com/vi/wvtcFOsc3-U/hqdefault.jpg', 'width': 480, 'height': 360}}, 'channelTitle': 'Legit Funny', 'liveBroadcastContent': 'none', 'publishTime': '2022-05-11T15:38:07Z'}}, {'kind': 'youtube#searchResult', 'etag': 'TgFKysrTB-uCyTHv34ojZ1xQhSU', 'id': {'kind': 'youtube#video', 'videoId': '1LUZ1WyUqG0'}, 'snippet': {'publishedAt': '2021-07-25T16:00:01Z', 'channelId': 'UChObmEJP3bgGUXJGc2ePP3Q', 'title': 'Why I Quit My Job and Retired at 39 | A Visual Poem', 'description': 'Enroll in our Stock Market Investing Course for Financial Independence and Retiring Early: https://ourrichjourney.thinkific.com/ ...', 'thumbnails': {'default': {'url': 'https://i.ytimg.com/vi/1LUZ1WyUqG0/default.jpg', 'width': 120, 'height': 90}, 'medium': {'url': 'https://i.ytimg.com/vi/1LUZ1WyUqG0/mqdefault.jpg', 'width': 320, 'height': 180}, 'high': {'url': 'https://i.ytimg.com/vi/1LUZ1WyUqG0/hqdefault.jpg', 'width': 480, 'height': 360}}, 'channelTitle': 'Our Rich Journey', 'liveBroadcastContent': 'none', 'publishTime': '2021-07-25T16:00:01Z'}}, {'kind': 'youtube#searchResult', 'etag': '9aFXCal2GFWuhI2RBCDHY3SOmHY', 'id': {'kind': 'youtube#video', 'videoId': 'IIolo5oR7gI'}, 'snippet': {'publishedAt': '2022-04-13T23:41:03Z', 'channelId': 'UCDn5zbDIhRG97O2rqia9Gag', 'title': 'I quit my dream job', 'description': 'I missed you guys! Here is a little life update for you :) I have so many new announcements in the next few weeks. Stay tuned!', 'thumbnails': {'default': {'url': 'https://i.ytimg.com/vi/IIolo5oR7gI/default.jpg', 'width': 120, 'height': 90}, 'medium': {'url': 'https://i.ytimg.com/vi/IIolo5oR7gI/mqdefault.jpg', 'width': 320, 'height': 180}, 'high': {'url': 'https://i.ytimg.com/vi/IIolo5oR7gI/hqdefault.jpg', 'width': 480, 'height': 360}}, 'channelTitle': 'Malama Life', 'liveBroadcastContent': 'none', 'publishTime': '2022-04-13T23:41:03Z'}}, {'kind': 'youtube#searchResult', 'etag': 'shbYtsw_wwmOPNRCElGykVxlIWU', 'id': {'kind': 'youtube#video', 'videoId': '9sdwaf76D_Y'}, 'snippet': {'publishedAt': '2020-05-23T09:28:41Z', 'channelId': 'UCMiJRAwDNSNzuYeN2uWa0pA', 'title': 'I quit my job to play with smartphones.', 'description': \"For 4 million Subscribers, here's the story of why I quit my job as a consultant, to become a YouTuber. Thank you for making it ...\", 'thumbnails': {'default': {'url': 'https://i.ytimg.com/vi/9sdwaf76D_Y/default.jpg', 'width': 120, 'height': 90}, 'medium': {'url': 'https://i.ytimg.com/vi/9sdwaf76D_Y/mqdefault.jpg', 'width': 320, 'height': 180}, 'high': {'url': 'https://i.ytimg.com/vi/9sdwaf76D_Y/hqdefault.jpg', 'width': 480, 'height': 360}}, 'channelTitle': 'Mrwhosetheboss', 'liveBroadcastContent': 'none', 'publishTime': '2020-05-23T09:28:41Z'}}, {'kind': 'youtube#searchResult', 'etag': 'PgU-scrfxtY8W1NOj2PA7NjIS6Y', 'id': {'kind': 'youtube#video', 'videoId': 'pCY_k3uka1E'}, 'snippet': {'publishedAt': '2017-08-03T21:22:09Z', 'channelId': 'UCsT0YIqwnpJCM-mx7-gSA4Q', 'title': 'Why I quit my job to pursue my childhood dream | Jason Y. Lee | TEDxUCIrvine', 'description': 'Jason Y. Lee shares his journey about why he quit his corporate job to make inspiring videos on youtube. Now Jason leads ...', 'thumbnails': {'default': {'url': 'https://i.ytimg.com/vi/pCY_k3uka1E/default.jpg', 'width': 120, 'height': 90}, 'medium': {'url': 'https://i.ytimg.com/vi/pCY_k3uka1E/mqdefault.jpg', 'width': 320, 'height': 180}, 'high': {'url': 'https://i.ytimg.com/vi/pCY_k3uka1E/hqdefault.jpg', 'width': 480, 'height': 360}}, 'channelTitle': 'TEDx Talks', 'liveBroadcastContent': 'none', 'publishTime': '2017-08-03T21:22:09Z'}}, {'kind': 'youtube#searchResult', 'etag': '0sHPIP2TJ2Wa-lxNOQksS1v11XM', 'id': {'kind': 'youtube#video', 'videoId': 'BwMsYcxi2u4'}, 'snippet': {'publishedAt': '2022-07-05T19:08:19Z', 'channelId': 'UCJxa13KC_nmLE4Jfcwky5bQ', 'title': 'I QUIT MY JOB (without having another one). This is why it all worked out | Update', 'description': 'Here is another update on how things have shaken out since I quit my job without a savings or another one to fall back on.', 'thumbnails': {'default': {'url': 'https://i.ytimg.com/vi/BwMsYcxi2u4/default.jpg', 'width': 120, 'height': 90}, 'medium': {'url': 'https://i.ytimg.com/vi/BwMsYcxi2u4/mqdefault.jpg', 'width': 320, 'height': 180}, 'high': {'url': 'https://i.ytimg.com/vi/BwMsYcxi2u4/hqdefault.jpg', 'width': 480, 'height': 360}}, 'channelTitle': 'Ashley Rock', 'liveBroadcastContent': 'none', 'publishTime': '2022-07-05T19:08:19Z'}}, {'kind': 'youtube#searchResult', 'etag': 'agpAZfjVk3RKlwyBxOfDq-mqiiY', 'id': {'kind': 'youtube#video', 'videoId': 'u5YfJV12Xyo'}, 'snippet': {'publishedAt': '2022-03-30T15:00:34Z', 'channelId': 'UC4O0Vd3UxFXGX-UQNelwTag', 'title': 'What is Quiet Quitting? &amp; Why Are So Many of Us Doing It?', 'description': \"There is a new phenomenon called 'Quiet Quitting' that is sweeping through the workplace. Basically, workers don't actually quit ...\", 'thumbnails': {'default': {'url': 'https://i.ytimg.com/vi/u5YfJV12Xyo/default.jpg', 'width': 120, 'height': 90}, 'medium': {'url': 'https://i.ytimg.com/vi/u5YfJV12Xyo/mqdefault.jpg', 'width': 320, 'height': 180}, 'high': {'url': 'https://i.ytimg.com/vi/u5YfJV12Xyo/hqdefault.jpg', 'width': 480, 'height': 360}}, 'channelTitle': 'Timothy Ward', 'liveBroadcastContent': 'none', 'publishTime': '2022-03-30T15:00:34Z'}}, {'kind': 'youtube#searchResult', 'etag': 'i8jHs-AQaMfcjlL8w9IjC9DqOa4', 'id': {'kind': 'youtube#video', 'videoId': 'CXBi61Uxw-E'}, 'snippet': {'publishedAt': '2022-10-21T15:00:14Z', 'channelId': 'UCqVgG1Tu_23FnA2vPqC_igw', 'title': 'I quit my job', 'description': 'Subscribe to my new email newsletter: https://paigeynews.substack.com/embed All views expressed are my own and are not ...', 'thumbnails': {'default': {'url': 'https://i.ytimg.com/vi/CXBi61Uxw-E/default.jpg', 'width': 120, 'height': 90}, 'medium': {'url': 'https://i.ytimg.com/vi/CXBi61Uxw-E/mqdefault.jpg', 'width': 320, 'height': 180}, 'high': {'url': 'https://i.ytimg.com/vi/CXBi61Uxw-E/hqdefault.jpg', 'width': 480, 'height': 360}}, 'channelTitle': 'PaigeY', 'liveBroadcastContent': 'none', 'publishTime': '2022-10-21T15:00:14Z'}}, {'kind': 'youtube#searchResult', 'etag': 'igKv_WgYOpl4SkNRZL630Mii63c', 'id': {'kind': 'youtube#video', 'videoId': 'CPwsufhMMmc'}, 'snippet': {'publishedAt': '2021-04-06T13:00:11Z', 'channelId': 'UCJQVsC3XcvuRMRr-jD_kTPw', 'title': 'Why I quit my job', 'description': 'shorts #BlackBean #whyIQuitMyJob #noodles #story #voiceover #foodie.', 'thumbnails': {'default': {'url': 'https://i.ytimg.com/vi/CPwsufhMMmc/default.jpg', 'width': 120, 'height': 90}, 'medium': {'url': 'https://i.ytimg.com/vi/CPwsufhMMmc/mqdefault.jpg', 'width': 320, 'height': 180}, 'high': {'url': 'https://i.ytimg.com/vi/CPwsufhMMmc/hqdefault.jpg', 'width': 480, 'height': 360}}, 'channelTitle': 'Lisa Nguyen', 'liveBroadcastContent': 'none', 'publishTime': '2021-04-06T13:00:11Z'}}, {'kind': 'youtube#searchResult', 'etag': 'MOvcupP6DLmZF8MDXKnULzIVMdU', 'id': {'kind': 'youtube#video', 'videoId': '7YroaNDzrKI'}, 'snippet': {'publishedAt': '2021-09-02T20:36:54Z', 'channelId': 'UCPrRsdgsxOmzr9ykAf7tlDw', 'title': 'I quit my $250k tech job and became a barista', 'description': 'thoughts on working at a coffee shop after leaving my job as a software engineer. some topics in this video: retirement, financial ...', 'thumbnails': {'default': {'url': 'https://i.ytimg.com/vi/7YroaNDzrKI/default.jpg', 'width': 120, 'height': 90}, 'medium': {'url': 'https://i.ytimg.com/vi/7YroaNDzrKI/mqdefault.jpg', 'width': 320, 'height': 180}, 'high': {'url': 'https://i.ytimg.com/vi/7YroaNDzrKI/hqdefault.jpg', 'width': 480, 'height': 360}}, 'channelTitle': 'Chris Jereza', 'liveBroadcastContent': 'none', 'publishTime': '2021-09-02T20:36:54Z'}}, {'kind': 'youtube#searchResult', 'etag': 'WDOvWrJNwxDGiagVu4lcjLIaajE', 'id': {'kind': 'youtube#video', 'videoId': 'r3vrmX8f1q0'}, 'snippet': {'publishedAt': '2022-03-06T19:42:32Z', 'channelId': 'UCmGF1XagzIlAvT46kWEQXjg', 'title': 'why i quit my job', 'description': \"only took me six months to post this I don't really believe in signs, but after countless bad things kept occurring on the basis of this ...\", 'thumbnails': {'default': {'url': 'https://i.ytimg.com/vi/r3vrmX8f1q0/default.jpg', 'width': 120, 'height': 90}, 'medium': {'url': 'https://i.ytimg.com/vi/r3vrmX8f1q0/mqdefault.jpg', 'width': 320, 'height': 180}, 'high': {'url': 'https://i.ytimg.com/vi/r3vrmX8f1q0/hqdefault.jpg', 'width': 480, 'height': 360}}, 'channelTitle': 'Morgann Book', 'liveBroadcastContent': 'none', 'publishTime': '2022-03-06T19:42:32Z'}}, {'kind': 'youtube#searchResult', 'etag': 'riRgP4Mu_mX0Hcs1LuTzwslaPvY', 'id': {'kind': 'youtube#video', 'videoId': '2DMODkIW9NY'}, 'snippet': {'publishedAt': '2022-09-29T17:00:01Z', 'channelId': 'UC7eBNeDW1GQf2NJQ6G6gAxw', 'title': 'Quit My Job To Be A Full-Time YouTuber?', 'description': 'Quit My Job To Be A Full-Time YouTuber? Subscribe and never miss a new highlight from The Ramsey Show: ...', 'thumbnails': {'default': {'url': 'https://i.ytimg.com/vi/2DMODkIW9NY/default.jpg', 'width': 120, 'height': 90}, 'medium': {'url': 'https://i.ytimg.com/vi/2DMODkIW9NY/mqdefault.jpg', 'width': 320, 'height': 180}, 'high': {'url': 'https://i.ytimg.com/vi/2DMODkIW9NY/hqdefault.jpg', 'width': 480, 'height': 360}}, 'channelTitle': 'The Ramsey Show - Highlights', 'liveBroadcastContent': 'none', 'publishTime': '2022-09-29T17:00:01Z'}}, {'kind': 'youtube#searchResult', 'etag': 'Qn5AmylQHVwitRPqjvn0dUvJpDE', 'id': {'kind': 'youtube#video', 'videoId': 'TlLnpyO0m7k'}, 'snippet': {'publishedAt': '2022-07-11T22:30:02Z', 'channelId': 'UCm9SCEqwQwPc8_nMHbkuy7Q', 'title': 'Quitting My Job For YouTube SUCKED... Here&#39;s Why', 'description': \"10K/MONTH AUTOMATED YOUTUBE INCOME (FREE COURSE): https://bit.ly/10kytauto ▻ JOIN THE YOUTUBER'S REVENUE ...\", 'thumbnails': {'default': {'url': 'https://i.ytimg.com/vi/TlLnpyO0m7k/default.jpg', 'width': 120, 'height': 90}, 'medium': {'url': 'https://i.ytimg.com/vi/TlLnpyO0m7k/mqdefault.jpg', 'width': 320, 'height': 180}, 'high': {'url': 'https://i.ytimg.com/vi/TlLnpyO0m7k/hqdefault.jpg', 'width': 480, 'height': 360}}, 'channelTitle': 'Greg Preece', 'liveBroadcastContent': 'none', 'publishTime': '2022-07-11T22:30:02Z'}}, {'kind': 'youtube#searchResult', 'etag': 'K2ch9pfX56iVH53_cBSZ18LGEAw', 'id': {'kind': 'youtube#video', 'videoId': 'gSWxkKXRLbk'}, 'snippet': {'publishedAt': '2012-06-12T14:32:15Z', 'channelId': 'UCsT0YIqwnpJCM-mx7-gSA4Q', 'title': 'I quit my job: Old Man Luedecke at TEDxHalifax', 'description': 'Old Man Luedecke is one of Canada\\'s best loved and most intriguing roots singer-songwriters. \"An original, he is a musical ...', 'thumbnails': {'default': {'url': 'https://i.ytimg.com/vi/gSWxkKXRLbk/default.jpg', 'width': 120, 'height': 90}, 'medium': {'url': 'https://i.ytimg.com/vi/gSWxkKXRLbk/mqdefault.jpg', 'width': 320, 'height': 180}, 'high': {'url': 'https://i.ytimg.com/vi/gSWxkKXRLbk/hqdefault.jpg', 'width': 480, 'height': 360}}, 'channelTitle': 'TEDx Talks', 'liveBroadcastContent': 'none', 'publishTime': '2012-06-12T14:32:15Z'}}, {'kind': 'youtube#searchResult', 'etag': '4GEVVAXZ5zEpoDFmqgdOAf_PtM4', 'id': {'kind': 'youtube#video', 'videoId': '0kxfchW8UFs'}, 'snippet': {'publishedAt': '2022-06-08T21:52:48Z', 'channelId': 'UCmV-Nf7LCEc4GyGhyYW5Tyg', 'title': 'I quiet quit my job.', 'description': 'I did it! I quit! Past videos on my job: ...', 'thumbnails': {'default': {'url': 'https://i.ytimg.com/vi/0kxfchW8UFs/default.jpg', 'width': 120, 'height': 90}, 'medium': {'url': 'https://i.ytimg.com/vi/0kxfchW8UFs/mqdefault.jpg', 'width': 320, 'height': 180}, 'high': {'url': 'https://i.ytimg.com/vi/0kxfchW8UFs/hqdefault.jpg', 'width': 480, 'height': 360}}, 'channelTitle': 'Katherout', 'liveBroadcastContent': 'none', 'publishTime': '2022-06-08T21:52:48Z'}}, {'kind': 'youtube#searchResult', 'etag': 'EXqkFL3RAb16t88aQWNArg9H8ro', 'id': {'kind': 'youtube#video', 'videoId': '-X2zTUjTUo8'}, 'snippet': {'publishedAt': '2019-10-17T21:00:01Z', 'channelId': 'UC7eBNeDW1GQf2NJQ6G6gAxw', 'title': 'I Make $200,000 A Year But Want To Quit My Job!', 'description': 'I Make $200000 A Year But Want To Quit My Job! Get a FREE trial of our life-changing Financial Peace University today: ...', 'thumbnails': {'default': {'url': 'https://i.ytimg.com/vi/-X2zTUjTUo8/default.jpg', 'width': 120, 'height': 90}, 'medium': {'url': 'https://i.ytimg.com/vi/-X2zTUjTUo8/mqdefault.jpg', 'width': 320, 'height': 180}, 'high': {'url': 'https://i.ytimg.com/vi/-X2zTUjTUo8/hqdefault.jpg', 'width': 480, 'height': 360}}, 'channelTitle': 'The Ramsey Show - Highlights', 'liveBroadcastContent': 'none', 'publishTime': '2019-10-17T21:00:01Z'}}, {'kind': 'youtube#searchResult', 'etag': 'Q9UviZ87ZDYJcGl-nFshRh-VZJ8', 'id': {'kind': 'youtube#video', 'videoId': '4THPaQpHEtk'}, 'snippet': {'publishedAt': '2021-09-20T23:56:42Z', 'channelId': 'UChYMARGFi6gB1ebf6NDugDQ', 'title': 'I Quit My Job, And You Should Too (The Great Resignation)', 'description': \"I did it. I quit my job. But I didn't quit my job without a plan. I chose to be part of the great resignation movement of 2021.\", 'thumbnails': {'default': {'url': 'https://i.ytimg.com/vi/4THPaQpHEtk/default.jpg', 'width': 120, 'height': 90}, 'medium': {'url': 'https://i.ytimg.com/vi/4THPaQpHEtk/mqdefault.jpg', 'width': 320, 'height': 180}, 'high': {'url': 'https://i.ytimg.com/vi/4THPaQpHEtk/hqdefault.jpg', 'width': 480, 'height': 360}}, 'channelTitle': 'Karson Gaule', 'liveBroadcastContent': 'none', 'publishTime': '2021-09-20T23:56:42Z'}}, {'kind': 'youtube#searchResult', 'etag': 'pxhkbYV-7AFTOcKNAng4U92alHs', 'id': {'kind': 'youtube#video', 'videoId': 'QnTTgi1nPSs'}, 'snippet': {'publishedAt': '2021-05-14T11:04:36Z', 'channelId': 'UC9xp62vR8you5nmzcdvMEbQ', 'title': 'Why I Quit My Job As A Highly Paid Manager', 'description': 'This is my most personal video so far. It explains my struggles when leaving the corporate world. Today I work as a leadership and ...', 'thumbnails': {'default': {'url': 'https://i.ytimg.com/vi/QnTTgi1nPSs/default.jpg', 'width': 120, 'height': 90}, 'medium': {'url': 'https://i.ytimg.com/vi/QnTTgi1nPSs/mqdefault.jpg', 'width': 320, 'height': 180}, 'high': {'url': 'https://i.ytimg.com/vi/QnTTgi1nPSs/hqdefault.jpg', 'width': 480, 'height': 360}}, 'channelTitle': 'Bernd Geropp', 'liveBroadcastContent': 'none', 'publishTime': '2021-05-14T11:04:36Z'}}, {'kind': 'youtube#searchResult', 'etag': '6qPCvricvfvO_3RA6LYk8eUTWXo', 'id': {'kind': 'youtube#video', 'videoId': 'kV8TYwLbhxs'}, 'snippet': {'publishedAt': '2021-04-16T18:00:11Z', 'channelId': 'UCTC1vsvogotg9sn2j8s0aZQ', 'title': 'I QUIT MY JOB (without having another job) 😬😭🥳', 'description': \"I quit my job during COVID without having another job to travel, rest, and reflect. Need a little motivation to do the same? Let's talk ...\", 'thumbnails': {'default': {'url': 'https://i.ytimg.com/vi/kV8TYwLbhxs/default.jpg', 'width': 120, 'height': 90}, 'medium': {'url': 'https://i.ytimg.com/vi/kV8TYwLbhxs/mqdefault.jpg', 'width': 320, 'height': 180}, 'high': {'url': 'https://i.ytimg.com/vi/kV8TYwLbhxs/hqdefault.jpg', 'width': 480, 'height': 360}}, 'channelTitle': 'Chimdi Ihezie', 'liveBroadcastContent': 'none', 'publishTime': '2021-04-16T18:00:11Z'}}, {'kind': 'youtube#searchResult', 'etag': 'pXKjZHyROSrueIcaLn-vWMmEjDU', 'id': {'kind': 'youtube#video', 'videoId': 'ZYKoDucwFIk'}, 'snippet': {'publishedAt': '2019-09-22T21:00:02Z', 'channelId': 'UC7eBNeDW1GQf2NJQ6G6gAxw', 'title': 'Can I Afford To Quit My Job?', 'description': 'Can I Afford To Quit My Job? Get a FREE trial of our life-changing Financial Peace University today: https://bit.ly/3dI2MF3 Visit the ...', 'thumbnails': {'default': {'url': 'https://i.ytimg.com/vi/ZYKoDucwFIk/default.jpg', 'width': 120, 'height': 90}, 'medium': {'url': 'https://i.ytimg.com/vi/ZYKoDucwFIk/mqdefault.jpg', 'width': 320, 'height': 180}, 'high': {'url': 'https://i.ytimg.com/vi/ZYKoDucwFIk/hqdefault.jpg', 'width': 480, 'height': 360}}, 'channelTitle': 'The Ramsey Show - Highlights', 'liveBroadcastContent': 'none', 'publishTime': '2019-09-22T21:00:02Z'}}, {'kind': 'youtube#searchResult', 'etag': 'nW1r8fAqQBQdMl7QVN7Z9DywAj0', 'id': {'kind': 'youtube#video', 'videoId': '1l7NLtkb3wE'}, 'snippet': {'publishedAt': '2018-08-16T00:59:44Z', 'channelId': 'UCdOPzgbosSnbfwd9-iXP2NA', 'title': 'WHY I QUIT MY CORPORATE JOB (FOR MILLENNIALS)', 'description': \"WHY I QUIT MY CORPORATE JOB (FOR MILLENNIALS)// Telling yourself “I want to quit my job” but aren't sure if it's the right ...\", 'thumbnails': {'default': {'url': 'https://i.ytimg.com/vi/1l7NLtkb3wE/default.jpg', 'width': 120, 'height': 90}, 'medium': {'url': 'https://i.ytimg.com/vi/1l7NLtkb3wE/mqdefault.jpg', 'width': 320, 'height': 180}, 'high': {'url': 'https://i.ytimg.com/vi/1l7NLtkb3wE/hqdefault.jpg', 'width': 480, 'height': 360}}, 'channelTitle': 'Vanessa Lau', 'liveBroadcastContent': 'none', 'publishTime': '2018-08-16T00:59:44Z'}}, {'kind': 'youtube#searchResult', 'etag': '9AYCEpS1WlkvpsikgYvx3kSSQR4', 'id': {'kind': 'youtube#video', 'videoId': 'kMMBXgCSi5U'}, 'snippet': {'publishedAt': '2022-08-21T16:00:33Z', 'channelId': 'UC_vOw_uMG0TBad8PxOD-R2w', 'title': 'It&#39;s Been 1 Year Since I Quit My Job - Was It A Mistake?', 'description': \"It's officially been one full year since quitting our 9-5, corporate jobs at Deloitte and PwC to work for ourselves full-time... and we ...\", 'thumbnails': {'default': {'url': 'https://i.ytimg.com/vi/kMMBXgCSi5U/default.jpg', 'width': 120, 'height': 90}, 'medium': {'url': 'https://i.ytimg.com/vi/kMMBXgCSi5U/mqdefault.jpg', 'width': 320, 'height': 180}, 'high': {'url': 'https://i.ytimg.com/vi/kMMBXgCSi5U/hqdefault.jpg', 'width': 480, 'height': 360}}, 'channelTitle': 'Steph & Den', 'liveBroadcastContent': 'none', 'publishTime': '2022-08-21T16:00:33Z'}}, {'kind': 'youtube#searchResult', 'etag': 'eeWgIEO7-uYmr4KSKdzws4KOLAk', 'id': {'kind': 'youtube#video', 'videoId': 'uaqwuXvQf2Y'}, 'snippet': {'publishedAt': '2021-12-16T09:00:23Z', 'channelId': 'UCjFLaemQI-t6RF0TtUrpUyQ', 'title': 'I Quit My Job as a Corporate Litigation Lawyer', 'description': \"After 6 years, I've finally decided to leave the legal industry for good. In this video I'll be sharing why I quit my six-figure job as a ...\", 'thumbnails': {'default': {'url': 'https://i.ytimg.com/vi/uaqwuXvQf2Y/default.jpg', 'width': 120, 'height': 90}, 'medium': {'url': 'https://i.ytimg.com/vi/uaqwuXvQf2Y/mqdefault.jpg', 'width': 320, 'height': 180}, 'high': {'url': 'https://i.ytimg.com/vi/uaqwuXvQf2Y/hqdefault.jpg', 'width': 480, 'height': 360}}, 'channelTitle': 'Em and Lloyd', 'liveBroadcastContent': 'none', 'publishTime': '2021-12-16T09:00:23Z'}}, {'kind': 'youtube#searchResult', 'etag': 'frTHoXLw9J7ILf3mla_vJgaJ5xs', 'id': {'kind': 'youtube#video', 'videoId': 'MoRAZKWey6E'}, 'snippet': {'publishedAt': '2022-09-01T03:25:59Z', 'channelId': 'UCPyST5UFOezhL7cErL0Zysw', 'title': 'I Quit My Job With No Plan', 'description': 'I quick a toxic job a few years back without a plan and it was the furthest thing from happy ever after. Took a couple of years to get ...', 'thumbnails': {'default': {'url': 'https://i.ytimg.com/vi/MoRAZKWey6E/default.jpg', 'width': 120, 'height': 90}, 'medium': {'url': 'https://i.ytimg.com/vi/MoRAZKWey6E/mqdefault.jpg', 'width': 320, 'height': 180}, 'high': {'url': 'https://i.ytimg.com/vi/MoRAZKWey6E/hqdefault.jpg', 'width': 480, 'height': 360}}, 'channelTitle': 'Michael White Dev', 'liveBroadcastContent': 'none', 'publishTime': '2022-09-01T03:25:59Z'}}, {'kind': 'youtube#searchResult', 'etag': 'zdltpsnB7sDCr6Z8afTZZEogyyM', 'id': {'kind': 'youtube#video', 'videoId': '1sq0bQN3Qec'}, 'snippet': {'publishedAt': '2022-02-24T05:30:00Z', 'channelId': 'UCF6Jb5gkcBom85H9JhAB3Lw', 'title': 'i quit my $350k job as a lawyer.', 'description': 'share your biglaw horror and non-horror stories with me: https://cecexie.com/your-biglaw-story access exclusive content: ...', 'thumbnails': {'default': {'url': 'https://i.ytimg.com/vi/1sq0bQN3Qec/default.jpg', 'width': 120, 'height': 90}, 'medium': {'url': 'https://i.ytimg.com/vi/1sq0bQN3Qec/mqdefault.jpg', 'width': 320, 'height': 180}, 'high': {'url': 'https://i.ytimg.com/vi/1sq0bQN3Qec/hqdefault.jpg', 'width': 480, 'height': 360}}, 'channelTitle': 'Cece Xie', 'liveBroadcastContent': 'none', 'publishTime': '2022-02-24T05:30:00Z'}}, {'kind': 'youtube#searchResult', 'etag': 'TDMj9koi9f4RNuvKvrVK4khA9cA', 'id': {'kind': 'youtube#video', 'videoId': 'qypjdC1RIrI'}, 'snippet': {'publishedAt': '2022-08-07T20:24:36Z', 'channelId': 'UCnzyQQpq3LBMPNBdvPY5qJw', 'title': 'Why I quit my job to sell on Amazon', 'description': '', 'thumbnails': {'default': {'url': 'https://i.ytimg.com/vi/qypjdC1RIrI/default.jpg', 'width': 120, 'height': 90}, 'medium': {'url': 'https://i.ytimg.com/vi/qypjdC1RIrI/mqdefault.jpg', 'width': 320, 'height': 180}, 'high': {'url': 'https://i.ytimg.com/vi/qypjdC1RIrI/hqdefault.jpg', 'width': 480, 'height': 360}}, 'channelTitle': 'Cajunventures', 'liveBroadcastContent': 'none', 'publishTime': '2022-08-07T20:24:36Z'}}, {'kind': 'youtube#searchResult', 'etag': 'w0BB3NVjtB0s8v12dJ8rmrKEiaY', 'id': {'kind': 'youtube#video', 'videoId': 'QXSquAP2AGA'}, 'snippet': {'publishedAt': '2022-05-12T03:21:41Z', 'channelId': 'UCAAn2zba9BjDy5ATlFBi2Gg', 'title': 'Why I Quit My Management Consulting Job', 'description': \"I quit my job as a management consultant within 1 year, and today I'm sharing why I left and what I'm doing next ✨ Subscribe ...\", 'thumbnails': {'default': {'url': 'https://i.ytimg.com/vi/QXSquAP2AGA/default.jpg', 'width': 120, 'height': 90}, 'medium': {'url': 'https://i.ytimg.com/vi/QXSquAP2AGA/mqdefault.jpg', 'width': 320, 'height': 180}, 'high': {'url': 'https://i.ytimg.com/vi/QXSquAP2AGA/hqdefault.jpg', 'width': 480, 'height': 360}}, 'channelTitle': 'kwoknation', 'liveBroadcastContent': 'none', 'publishTime': '2022-05-12T03:21:41Z'}}]}\n"
     ]
    }
   ],
   "source": [
    "#use youtube.search().list(part='id, snippet')\n",
    "\n",
    "query=\"why I quit my job\"\n",
    "# token=\"CDIQAA\"\n",
    "order='relevance'\n",
    "max_results=2000\n",
    "location=None\n",
    "location_radius=None\n",
    "\n",
    "# videos_list=[]\n",
    "responses_list =[]\n",
    "\n",
    "for i in range(0,max_results,50):\n",
    "    print(i)\n",
    "    if i ==0:\n",
    "        next_token=None\n",
    "        prev_token = None\n",
    "    search_response = youtube.search().list(\n",
    "        q=query,\n",
    "        type=\"video\",\n",
    "        pageToken=next_token,\n",
    "        order = order,\n",
    "        part=\"id,snippet\",\n",
    "        maxResults=max_results,\n",
    "        location=location,\n",
    "        locationRadius=location_radius).execute()\n",
    "    \n",
    "    responses_list.append(search_response)\n",
    "#     print(search_response.keys())\n",
    "    \n",
    "    \n",
    "    #GET NEXT PAGE OF RESULTS\n",
    "    if 'nextPageToken' in search_response.keys():\n",
    "        next_token=search_response['nextPageToken']\n",
    "    else:\n",
    "        next_token=None\n",
    "        \n",
    "    if 'prevPageToken' in search_response.keys():\n",
    "        prev_token=search_response['prevPageToken']\n",
    "    else:\n",
    "        prev_token=None\n",
    "        \n",
    "    \n",
    "#     print(\"NEXT:\", next_token)\n",
    "#     print(\"PREV:\",prev_token)\n",
    "\n",
    "    print(\"----\")\n",
    "\n",
    "    \n",
    "    print(responses_list[-1])"
   ]
  },
  {
   "cell_type": "code",
   "execution_count": 29,
   "id": "c08d8f29",
   "metadata": {},
   "outputs": [],
   "source": [
    "# responses_list[0]['items'][0]"
   ]
  },
  {
   "cell_type": "code",
   "execution_count": 30,
   "id": "ee08970c",
   "metadata": {},
   "outputs": [],
   "source": [
    "\n",
    "# for response in responses_list:\n",
    "#     print(response.keys())\n",
    "#     for key in response.keys():\n",
    "\n",
    "#         print(response['items'])\n",
    "#         if key ==\"items\":\n",
    "#             item_list = response['items']\n",
    "#             for item in item_list:\n",
    "#                 video_dict = {}\n",
    "#     #             print(item)\n",
    "#                 title=item['snippet']['title']\n",
    "\n",
    "#                 desc = item['snippet']['description']\n",
    "#                 video_id = item['id']['videoId']\n",
    "#                 channel_id = items['snippet']['channelId']\n",
    "#                 print(desc)\n",
    "\n",
    "#         print(\"____\")"
   ]
  },
  {
   "cell_type": "code",
   "execution_count": 64,
   "id": "49c461e2",
   "metadata": {},
   "outputs": [
    {
     "data": {
      "text/plain": [
       "1987"
      ]
     },
     "execution_count": 64,
     "metadata": {},
     "output_type": "execute_result"
    }
   ],
   "source": [
    "#create list of ids to iterate through - remove the layer of lists given for individual queries of youtube.search()\n",
    "\n",
    "video_list = []\n",
    "for response in responses_list:\n",
    "#     print(response.keys())\n",
    "    videos_list = response['items']\n",
    "    for item in videos_list:\n",
    "        \n",
    "        video_title=item['snippet']['title']\n",
    "\n",
    "#         desc = item['snippet']['description'] #only gives snippet of desc - add when getting transcripts\n",
    "        video_id = item['id']['videoId']\n",
    "        channel_id = item['snippet']['channelId']\n",
    "        published_at = item['snippet']['publishedAt']\n",
    "        video_dict = {\n",
    "            \"video_id\": video_id,\n",
    "            \"video_title\": video_title,\n",
    "            \"channel_id\": channel_id,\n",
    "            'publish_at': published_at\n",
    "        }\n",
    "        \n",
    "        video_list.append(video_dict)\n",
    "len(video_list)\n",
    "        "
   ]
  },
  {
   "cell_type": "code",
   "execution_count": 69,
   "id": "1fda9e77",
   "metadata": {},
   "outputs": [
    {
     "name": "stdout",
     "output_type": "stream",
     "text": [
      "VIDEOS PROCESSED:  0\n",
      "dict_keys(['viewCount', 'favoriteCount', 'commentCount'])\n",
      "VIDEOS PROCESSED:  100\n",
      "dict_keys(['viewCount', 'favoriteCount', 'commentCount'])\n",
      "dict_keys(['viewCount', 'favoriteCount', 'commentCount'])\n",
      "VIDEOS PROCESSED:  200\n",
      "dict_keys(['viewCount', 'favoriteCount', 'commentCount'])\n",
      "VIDEOS PROCESSED:  300\n",
      "VIDEOS PROCESSED:  400\n",
      "dict_keys(['viewCount', 'favoriteCount', 'commentCount'])\n",
      "dict_keys(['viewCount', 'favoriteCount', 'commentCount'])\n",
      "VIDEOS PROCESSED:  500\n",
      "dict_keys(['viewCount', 'favoriteCount', 'commentCount'])\n",
      "dict_keys(['viewCount', 'favoriteCount', 'commentCount'])\n",
      "dict_keys(['viewCount', 'favoriteCount', 'commentCount'])\n",
      "VIDEOS PROCESSED:  600\n",
      "dict_keys(['viewCount', 'favoriteCount', 'commentCount'])\n",
      "VIDEOS PROCESSED:  700\n",
      "VIDEOS PROCESSED:  800\n",
      "dict_keys(['viewCount', 'favoriteCount', 'commentCount'])\n",
      "dict_keys(['viewCount', 'favoriteCount', 'commentCount'])\n",
      "VIDEOS PROCESSED:  900\n",
      "VIDEOS PROCESSED:  1000\n",
      "dict_keys(['viewCount', 'favoriteCount', 'commentCount'])\n",
      "VIDEOS PROCESSED:  1100\n",
      "dict_keys(['viewCount', 'favoriteCount', 'commentCount'])\n",
      "dict_keys(['viewCount', 'favoriteCount', 'commentCount'])\n",
      "dict_keys(['viewCount', 'favoriteCount', 'commentCount'])\n",
      "VIDEOS PROCESSED:  1200\n",
      "dict_keys(['viewCount', 'favoriteCount', 'commentCount'])\n",
      "VIDEOS PROCESSED:  1300\n",
      "VIDEOS PROCESSED:  1400\n",
      "dict_keys(['viewCount', 'favoriteCount', 'commentCount'])\n",
      "VIDEOS PROCESSED:  1500\n",
      "VIDEOS PROCESSED:  1600\n",
      "dict_keys(['viewCount', 'favoriteCount', 'commentCount'])\n",
      "VIDEOS PROCESSED:  1700\n",
      "dict_keys(['viewCount', 'favoriteCount', 'commentCount'])\n",
      "dict_keys(['viewCount', 'favoriteCount', 'commentCount'])\n",
      "dict_keys(['viewCount', 'favoriteCount', 'commentCount'])\n",
      "dict_keys(['viewCount', 'favoriteCount', 'commentCount'])\n",
      "VIDEOS PROCESSED:  1800\n",
      "VIDEOS PROCESSED:  1900\n"
     ]
    }
   ],
   "source": [
    "title = []\n",
    "channelId = []\n",
    "channelTitle = []\n",
    "categoryId = []\n",
    "videoId = []\n",
    "viewCount = []\n",
    "likeCount = []\n",
    "dislikeCount = []\n",
    "commentCount = []\n",
    "favoriteCount = []\n",
    "category = []\n",
    "tags = []\n",
    "videos = []\n",
    "descriptions=[]\n",
    "i = 0\n",
    "for video in video_list:\n",
    "    if i % 100 == 0:\n",
    "        print(\"VIDEOS PROCESSED: \", i)\n",
    "    videoId.append(video['video_id'])\n",
    "    title.append(video['video_title'])\n",
    "    stats = youtube.videos().list(\n",
    "        part='statistics, snippet',\n",
    "        id=video['video_id']).execute()\n",
    "    channelId.append(stats['items'][0]['snippet']['channelId']) \n",
    "    channelTitle.append(stats['items'][0]['snippet']['channelTitle']) \n",
    "    categoryId.append(stats['items'][0]['snippet']['categoryId']) \n",
    "    favoriteCount.append(stats['items'][0]['statistics']['favoriteCount'])\n",
    "    try:\n",
    "        viewCount.append(stats['items'][0]['statistics']['viewCount']) \n",
    "    except:\n",
    "        viewCount.append(\"Not available\") \n",
    "    #Not every video has likes/dislikes enabled so they won't appear in JSON response\n",
    "    try:\n",
    "        likeCount.append(stats['items'][0]['statistics']['likeCount'])\n",
    "    except:\n",
    "   #Good to be aware of Channels that turn off their Likes\n",
    "#         print(\"Video titled {0}, on Channel {1} Likes Count is not available\".format(stats['items'][0]['snippet']['title'],\n",
    "#                                                                                      stats['items'][0]['snippet']['channelTitle']))\n",
    "        print(stats['items'][0]['statistics'].keys())\n",
    "    #Appends \"Not Available\" to keep dictionary values aligned\n",
    "        likeCount.append(\"Not available\")\n",
    "\n",
    "    try:\n",
    "        dislikeCount.append(stats['items'][0]['statistics']['dislikeCount'])     \n",
    "    except:\n",
    "        #Good to be aware of Channels that turn off their Likes\n",
    "#         print(\"Video titled {0}, on Channel {1} Dislikes Count is not available\".format(stats['items'][0]['snippet']['title'],\n",
    "#                                                                                         stats['items'][0]['snippet']['channelTitle']))\n",
    "#         print(stats['items'][0]['statistics'].keys())\n",
    "        dislikeCount.append(\"Not available\")\n",
    "\n",
    "    if 'commentCount' in stats['items'][0]['statistics'].keys():\n",
    "        commentCount.append(stats['items'][0]['statistics']['commentCount'])\n",
    "    else:\n",
    "        commentCount.append(0)\n",
    "\n",
    "    if 'tags' in stats['items'][0]['snippet'].keys():\n",
    "        tags.append(stats['items'][0]['snippet']['tags'])\n",
    "    else:\n",
    "        #I'm not a fan of empty fields\n",
    "        tags.append(\"No Tags\")\n",
    "        \n",
    "    if 'description' in stats['items'][0]['snippet'].keys():\n",
    "        descriptions.append(stats['items'][0]['snippet']['description'])\n",
    "    else:\n",
    "        #I'm not a fan of empty fields\n",
    "        tags.append(\"No Description\")\n",
    "    \n",
    "    #a given video iss equivelant to stats['items'][0]\n",
    "    i += 1"
   ]
  },
  {
   "cell_type": "code",
   "execution_count": 51,
   "id": "d73f4fa8",
   "metadata": {},
   "outputs": [],
   "source": [
    "# stats"
   ]
  },
  {
   "cell_type": "code",
   "execution_count": 70,
   "id": "3e8c6503",
   "metadata": {},
   "outputs": [
    {
     "name": "stdout",
     "output_type": "stream",
     "text": [
      "tags\n",
      "LENGTH:  1987\n",
      "[['should you quit your job', 'should you quit your job to start a business', 'signs you should quit your job', 'should i quit my job', 'should i quit my job to start my own business', 'joe rogan quit your job', 'quit your job', 'quit your job motivation', 'quitting my job', 'quit your job and do what you love', 'quit your job garyvee', 'quit your job joe rogan', 'quit your job if you hate it', 'how to know if you should quit your job', 'gary vee quit your job', 'when is the right time to quit your job'], 'No Tags', ['personal finance', 'quit your job', 'passive income', 'quit my job', 'why i quit my job for youtube', 'lessons about money', 'quit my job for youtube', 'passive income 2021', 'why i quit', 'quit job', 'big law', 'i quit my job', 'passive income online 2021', 'i quit my job in 2021', 'i quit my job in 2020', 'should i quit my job', 'quit my job to start a business', 'should i quit my job if it makes me unhappy', 'should i quit my job without another lined up', 'how to quit a 9-5', 'how to quit your job'], ['i quit my job', 'quitting my job', 'why i quit my job', 'i quit', 'quit my job', 'quit job', 'should i quit my job', 'the great resignation', 'great resignation 2022', 'how to quit your job', 'i hate my job', 'i want to quit my job without another job', 'quit my job to start a business', 'should i quit my job if it makes me unhappy', 'should i quit my job without another lined up', 'how to quit a 9-5', 'personal finance', 'passive income', 'why i quit my job for youtube', 'i quit my job in 2022'], ['personal finance', 'quit your job', 'passive income', 'quit my job', 'passive income on youtube', 'why i quit my job for youtube', 'lessons about money', 'quit my job for youtube', 'passive income 2021', 'why i quit', 'quit job', 'big law', 'i quit my job', 'passive income online 2021']]\n",
      "---\n",
      "channelId\n",
      "LENGTH:  1987\n",
      "['UCI_2HqC2a22Q4Jx41o9g72w', 'UCCFodX6dcHPnkcNkyOkjRLA', 'UCPa0bvFsR1mbBpk5mIPFGLA', 'UCPa0bvFsR1mbBpk5mIPFGLA', 'UCoSw1rKMkCbwzKpkC0OjRKA']\n",
      "---\n",
      "channelTitle\n",
      "LENGTH:  1987\n",
      "['The Outcome', 'Chris Cascella', 'Vincent Chan', 'Vincent Chan', 'Erika Kullberg']\n",
      "---\n",
      "categoryId\n",
      "LENGTH:  1987\n",
      "['24', '22', '27', '27', '27']\n",
      "---\n",
      "title\n",
      "LENGTH:  1987\n",
      "['Should You QUIT Your Job? - The Most Life Changing Speech Ever (ft. Garyvee, Joe Rogan)', 'Why I Quit my Job With No Backup Plan | The Perspective That Changed My Life', 'I QUIT My $120,000 Job After Learning 3 Things', 'Quitting my job was a big mistake', 'QUIT MY $250,000 JOB after learning THIS about money']\n",
      "---\n",
      "videoId\n",
      "LENGTH:  1987\n",
      "['SZEo1KFjTn4', 'PgfzN1xfgLc', 'ZvCGppdE2E0', '84FPm7oAQG8', 'XXyk_PT9LiM']\n",
      "---\n",
      "viewCount\n",
      "LENGTH:  1987\n",
      "['3394672', '251842', '2996857', '379892', '2943376']\n",
      "---\n",
      "likeCount\n",
      "LENGTH:  1987\n",
      "['96192', '13012', '133189', '15542', '118752']\n",
      "---\n",
      "dislikeCount\n",
      "LENGTH:  1987\n",
      "['Not available', 'Not available', 'Not available', 'Not available', 'Not available']\n",
      "---\n",
      "commentCount\n",
      "LENGTH:  1987\n",
      "['7152', '1398', '8538', '1006', '7295']\n",
      "---\n",
      "favoriteCount\n",
      "LENGTH:  1987\n",
      "['0', '0', '0', '0', '0']\n",
      "---\n",
      "description\n",
      "LENGTH:  1987\n",
      "[\"Should you quit your job and start a business? Joe Rogan & Garyvee talks about how to know when to quit your job and how to actually do what you love. This will be the most life changing speech you will see. It will motivate you to quit your job at the right time.\\n\\nDo leave a LIKE and SUBSCRIBE if you've enjoyed this video.\\nhttps://www.youtube.com/c/theoutcome?sub_confirmation=1\\n\\n▬▬▬▬▬▬▬▬▬▬▬▬▬▬▬▬▬▬▬▬▬▬▬▬▬▬▬\\n\\n🔑 INVEST IN YOURSELF\\n\\n10 Hacks For Perfect Memory ▶ http://bit.ly/ThePerfectMemory\\n\\nMake High Performance Effortless ▶ http://bit.ly/LimitlessPerformance\\n\\n7 Key Ingredients To Success ▶ http://bit.ly/7SuccessIngredients\\n\\n4 Key Stages To Your Consciousness ▶ http://bit.ly/HighConsciousness\\n\\nThe Secret To Manifest Your Purpose ▶ http://bit.ly/EliteManifestation\\n\\nSecret Psychology Of Achievement ▶ http://bit.ly/PsychologyOfAchievement\\n\\nHow Confident Are You? Take The Quiz! ▶ http://bit.ly/SelfConfidenceQuiz\\n\\n▬▬▬▬▬▬▬▬▬▬▬▬▬▬▬▬▬▬▬▬▬▬▬▬▬▬▬\\n\\nFollow us on:\\nFacebook: https://facebook.com/TheOutcomeYT\\nInstagram: TheOutcomeYT\\n\\n#quityourjob #quitmyjob #joerogan #garyvee\\n\\nAdditional Tags:\\nshould you quit your job,should you quit your job to start a business,signs you should quit your job,should i quit my job,should i quit my job to start my own business,joe rogan quit your job,quit your job,quit your job motivation,quitting my job,quit your job and do what you love,quit your job garyvee,quit your job joe rogan,quit your job if you hate it,how to know if you should quit your job,gary vee quit your job,when is the right time to quit your job\", \"Apply for Life & Mindset Coaching: https://www.chriscascella.com/coaching-application/\\n\\nSign up for my newsletter Free Thoughts Thursday: https://www.chriscascella.com/\\n\\nFollow me on Instagram: https://www.instagram.com/chriscascella/\\n\\n---------------------------------------------------------------------------------------------------------------------------------------------------------------\\n\\nA lot of talk about The Great Resignation... but that's not what I'm here to talk about. I'm here to talk about breaking away from society's standards and pursuing your dream life because life is too short to do anything else. \\n\\nWhy You Should Define Your Fears Instead of Your Goals:\\nhttps://www.ted.com/talks/tim_ferriss_why_you_should_define_your_fears_instead_of_your_goals?language=en\\n\\n0:00 - Intro\\n0:15 - Video Structure\\n0:20 - Background\\n1:26 - Fears\\n2:20 - Perspective\\n5:50 - Fear-setting\\n8:14 - Conclusion\\n\\nCheck out my podcast: From the Beginning:\\nhttps://open.spotify.com/show/41myrUXp8IuDpGmgx3njft?si=-F7RRXwKRrClEN33Qgbmuw&dl_branch=1\", 'I decided to quit my job after I realized these 3 lessons. Although I \"heard\" of these 3 things before, they never clicked inside my head until these events happened in my life. My goal is to share my experiences with you in hopes that this video will be more than just \"sounds\" coming from your speakers or \"words\" on a screen. I hope these lessons can inspire you to do what you truly want to do.\\n\\nCOOL PERKS FOR YOU:\\n⮕ 📰 FREE daily stock market newsletter: https://dailymarketbriefs.com/\\n⮕ 📈  Get 2 free stocks valued up to $2300: https://bit.ly/FREEstocks \\n\\n⮕ 📈  TipRanks:https://did.li/X4caa\\n\\nLET\\'S BE FRIENDS:\\n⮕ 🚀 Patreon/Discord: http://bit.ly/patreonvc\\n⮕ 📷 Instagram: https://bit.ly/secretINSTA\\n⮕ 📩 Business inquires: c.chanvincent@gmail.com \\n\\nMY SETUP:\\n⮕ 📷  My Gear: https://kit.co/hivincentc\\n⮕ 🎵 My Music: https://www.epidemicsound.com/referral/o5s06j/\\n\\n______\\n\\nDISCLAIMER: Some of the links on this page are affiliate links, meaning, at no additional cost to you, I may earn a commission if you click through and make a purchase and/or subscribe. Affiliate commissions help fund videos like this one. \\n\\nAll opinions expressed by Vincent Chan are solely Vincent Chan’s opinions. You should not treat any opinion expressed by Vincent Chan as a specific inducement to make a particular investment or follow a particular strategy, but only as an expression of his opinion. Vincent Chan’s opinions are based upon information he considers reliable, but does not warrant its completeness or accuracy, and it should not be relied upon as such. Vincent Chan is not under any obligation to update or correct any information provided. Vincent Chan’s statements and opinions are subject to change without notice. \\n\\nPast performance is not indicative of future results. Vincent Chan does not guarantee any specific outcome or profit. You should be aware of the real risk of loss in following any strategy or investment discussed. Strategies or investments discussed may fluctuate in price or value. Investors may get back less than invested. Investments or strategies mentioned  may not be suitable for you. This material does not take into account your particular investment objectives, financial situation or needs and is not intended as recommendations appropriate for you. You must make an independent decision regarding investments or strategies mentioned. Before acting on information, you should consider whether it is suitable for your particular circumstances and strongly consider seeking advice from your own financial or investment adviser.', \"Go to https://bit.ly/3QcW39t and use code VINCENTCHAN to get 15% off ClickUp's massive Unlimited Plan for a year! Start reclaiming your time for less than $5 a month. Hurry offer ends soon.\\n\\n⮕ 💻 Check out my 2nd channel (business & economic video essays): https://bit.ly/YTpuzzle\\n\\n*Do you wish finance news wasn't so boring and hard?*\\n📝 Try our FREE newsletter HERE: https://bit.ly/DMarketBriefs\\n\\n*Want to cashflow $100,000 in 12 months?*\\n💵 Get the playbooks and strategies HERE: https://bit.ly/3Ay4jd3\\n\\n*FREE ways to support the channel*\\n📈 Get 10 free stocks with moomoo: https://bit.ly/3kpn5wa\\n📈 Get 12 free stocks with WeBull: https://bit.ly/39OXTwt\\n\\n*Dive into the shocking world of business crimes*\\n🎥 My 2nd YouTube channel: https://bit.ly/YTpuzzle\\n\\n*Let's be friends and connect*\\n📩 Business inquires: vincent@contentmark.co\\n📷 Instagram: https://www.instagram.com/hivincentc/\\n📱 TikTok: https://www.tiktok.com/@hivincentc\\n🐦 Twitter: https://twitter.com/hivincentc\\n👨\\u200d💻 https://vincentchan.io/\\n______\\n\\nDISCLAIMER: Some of the links on this page are affiliate links, meaning, at no additional cost to you, I may earn a commission if you click through and make a purchase and/or subscribe. Affiliate commissions help fund videos like this one. \\n\\nAll opinions expressed by Vincent Chan are solely Vincent Chan’s opinions. You should not treat any opinion expressed by Vincent Chan as a specific inducement to make a particular investment or follow a particular strategy, but only as an expression of his opinion. Vincent Chan’s opinions are based upon information he considers reliable, but does not warrant its completeness or accuracy, and it should not be relied upon as such. Vincent Chan is not under any obligation to update or correct any information provided. Vincent Chan’s statements and opinions are subject to change without notice. \\n\\nPast performance is not indicative of future results. Vincent Chan does not guarantee any specific outcome or profit. You should be aware of the real risk of loss in following any strategy or investment discussed. Strategies or investments discussed may fluctuate in price or value. Investors may get back less than invested. Investments or strategies mentioned  may not be suitable for you. This material does not take into account your particular investment objectives, financial situation or needs and is not intended as recommendations appropriate for you. You must make an independent decision regarding investments or strategies mentioned. Before acting on information, you should consider whether it is suitable for your particular circumstances and strongly consider seeking advice from your own financial or investment adviser.\", \"My free guide to making passive income: https://erikakullberg.com/passive-income/\\nFollow me on Instagram: @erikankullberg (If you share this video on instagram, please tag me!)\\nGet 2 Free stocks on Webull: https://erikakullberg.com/webull\\n▽Free resources I created for you below *open me*▽\\n\\nThis is something that I didn't realize about money.  The moment I learned this lesson (through 10 words repeated to me on a phone call), it taught me everything I need to know about money and I quit.  \\n\\nThis video is to share my story about why I quit Big Law.  It's the most vulnerable video I've ever posted, and I've been reluctant to post this for an entire year, but wanted to finally share with you the REAL reason why money matters.\\n\\nGet $50 worth of free stocks when you open a SoFi Invest account and deposit a certain amount - https://erikakullberg.com/sofi-invest\\n\\nLearn how to grow a profitable YouTube channel.  In this course, I cover step-by-step how I went from 0 subscribers to over 70,000 subscribers and 4 million views and making over $100,000 on YouTube in under a year.  From setup, to time-saving hacks, to making money on YouTube, to getting featured in media, this course has you covered: https://erikakullberg.com/youtube-course\\n\\nIf you just want to learn more about YouTube, you can download my Free Guide on how I grew my YouTube channel: https://erikakullberg.com/free-youtube-guide\\n\\nAre you a business owner or online entrepreneur?  I’m an award-winning lawyer and have some free resources to help you.\\nDownload my FREE Legal Guide on how to legally protect your business: https://erikakullberg.com/legal-guide\\n\\n▽MY RECOMMENDATIONS▽\\n\\n➤ Refinance Your Student Loans\\n🎓 SoFi - (Exclusive) Get $100 when you refinance your Student Loans to Cut the Interest Rates!  \\nhttps://erikakullberg.com/sofi\\n\\n----------\\n\\n➤ READING\\n📚 This is my current favorite personal finance book\\nhttps://amzn.to/2I0f6Wd\\n\\n----------\\n\\n➤ FREE DOWNLOADS\\n💸 Download the budget & expenses tracker or the net worth tracker I created\\nFree Budget & Expenses tracker: https://bit.ly/3aTYOrJ\\nFree Net Worth Tracker: https://bit.ly/2U5UOOR\\n\\n----------\\n\\n➤ OTHER RESOURCES\\n📧 For other resources, check out my website\\nhttps://www.erikakullberg.com/resources\\n\\n----------\\n\\n\\nAbout ME:\\nHello!  My name is Erika Kullberg.  I'm a lawyer by profession, but my passion is personal finance. After I graduated, I had over $200,000 of student debt, so I made it my mission to dive into everything personal finance-related, so I could equip myself with the tools to pay off the student loans as quickly as possible.  I ended up paying them off in under 2 years, and now it's my passion project to share with you all of the strategies I've used to pay off my student loans, increase my net worth, credit card hack (travel on points), invest, house hack (invest in real estate), build passive income streams, and more.  I'm now one of the largest finance influencers and one of the most followed lawyers on social media, with over 17 million followers across TikTok, Instagram, YouTube and Facebook. I hope you'll join me on the channel!\\n\\n📮 LET'S CONNECT!\\nSUBSCRIBE to my channel\\nhttps://www.youtube.com/channel/UCoSw1rKMkCbwzKpkC0OjRKA?sub_confirmation=1\\n----------\\nInstagram\\nhttps://www.instagram.com/erikankullberg\\n----------\\nFacebook\\nhttps://www.facebook.com/erikankullberg/\\n\\n----------\\nTikTok\\nhttps://www.tiktok.com/@erikakullberg?lang=en\\n\\n----------\\nWebsite\\nhttp://erikakullberg.com\\n----------\\nGuide to Legally Protecting Your Business\\nhttps://plugandlaw.com/legal-guide\\n\\n\\nNOTE: This description contains some affiliate links, meaning that I may earn a minimal commission if you click through and use these links (at no additional cost to you).\\n\\nDisclaimer: I am not a financial advisor.  Although I am a lawyer by profession, I am not your lawyer and no attorney-client relationship is established with you in any way.  This video, and the ideas presented in it, are for entertainment purposes only and should not be construed as financial or legal advice.\"]\n",
      "---\n"
     ]
    }
   ],
   "source": [
    "youtube_dict = {'tags':tags,'channelId': channelId,'channelTitle': channelTitle,\n",
    "                'categoryId':categoryId,'title':title,'videoId':videoId,\n",
    "                'viewCount':viewCount,'likeCount':likeCount,'dislikeCount':dislikeCount,\n",
    "                'commentCount':commentCount,'favoriteCount':favoriteCount,\n",
    "               \"description\": descriptions}\n",
    "\n",
    "for key in youtube_dict.keys():\n",
    "    print(key)\n",
    "    print(\"LENGTH: \", len(youtube_dict[key]))\n",
    "    print(youtube_dict[key][:5])\n",
    "    \n",
    "    print(\"---\")\n"
   ]
  },
  {
   "cell_type": "code",
   "execution_count": 71,
   "id": "2e143e3f",
   "metadata": {},
   "outputs": [],
   "source": [
    "filename=\"youtube_stats.json\"\n",
    "with open(filename, 'w', encoding='utf-8') as f:\n",
    "    json.dump(youtube_dict, f, ensure_ascii=False, indent=4)"
   ]
  },
  {
   "cell_type": "code",
   "execution_count": 17,
   "id": "2f372252",
   "metadata": {},
   "outputs": [
    {
     "data": {
      "text/plain": [
       "\"After 6 years, I've finally decided to leave the legal industry for good. In this video I'll be sharing why I quit my six-figure job as a ...\""
      ]
     },
     "execution_count": 17,
     "metadata": {},
     "output_type": "execute_result"
    }
   ],
   "source": [
    "#use youtube.videos().list(part='statistics, snippet')"
   ]
  },
  {
   "cell_type": "code",
   "execution_count": null,
   "id": "775aeb69",
   "metadata": {},
   "outputs": [],
   "source": []
  }
 ],
 "metadata": {
  "kernelspec": {
   "display_name": "Python 3",
   "language": "python",
   "name": "python3"
  },
  "language_info": {
   "codemirror_mode": {
    "name": "ipython",
    "version": 3
   },
   "file_extension": ".py",
   "mimetype": "text/x-python",
   "name": "python",
   "nbconvert_exporter": "python",
   "pygments_lexer": "ipython3",
   "version": "3.8.8"
  }
 },
 "nbformat": 4,
 "nbformat_minor": 5
}
